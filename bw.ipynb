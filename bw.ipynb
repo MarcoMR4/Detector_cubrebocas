{
 "cells": [
  {
   "cell_type": "code",
   "execution_count": null,
   "id": "844057d1-247d-4d0b-9d32-3cb2186b2460",
   "metadata": {},
   "outputs": [],
   "source": []
  },
  {
   "cell_type": "code",
   "execution_count": 4,
   "id": "b92dc60f-763a-41dc-81a6-c1e243061cea",
   "metadata": {},
   "outputs": [
    {
     "ename": "FileNotFoundError",
     "evalue": "[WinError 3] The system cannot find the path specified: 'diegoS'",
     "output_type": "error",
     "traceback": [
      "\u001b[1;31m---------------------------------------------------------------------------\u001b[0m",
      "\u001b[1;31mFileNotFoundError\u001b[0m                         Traceback (most recent call last)",
      "Cell \u001b[1;32mIn[4], line 7\u001b[0m\n\u001b[0;32m      4\u001b[0m \u001b[38;5;28;01mimport\u001b[39;00m \u001b[38;5;21;01mnumpy\u001b[39;00m \u001b[38;5;28;01mas\u001b[39;00m \u001b[38;5;21;01mnp\u001b[39;00m\n\u001b[0;32m      6\u001b[0m basePath \u001b[38;5;241m=\u001b[39m \u001b[38;5;124m'\u001b[39m\u001b[38;5;124mdiegoS\u001b[39m\u001b[38;5;124m'\u001b[39m\n\u001b[1;32m----> 7\u001b[0m folders \u001b[38;5;241m=\u001b[39m \u001b[43mos\u001b[49m\u001b[38;5;241;43m.\u001b[39;49m\u001b[43mlistdir\u001b[49m\u001b[43m(\u001b[49m\u001b[43mbasePath\u001b[49m\u001b[43m)\u001b[49m\n\u001b[0;32m      9\u001b[0m \u001b[38;5;28;01mfor\u001b[39;00m folder \u001b[38;5;129;01min\u001b[39;00m folders:\n\u001b[0;32m     10\u001b[0m     folderPath \u001b[38;5;241m=\u001b[39m basePath \u001b[38;5;241m+\u001b[39m \u001b[38;5;124m'\u001b[39m\u001b[38;5;124m/\u001b[39m\u001b[38;5;124m'\u001b[39m \u001b[38;5;241m+\u001b[39m folder\n",
      "\u001b[1;31mFileNotFoundError\u001b[0m: [WinError 3] The system cannot find the path specified: 'diegoS'"
     ]
    }
   ],
   "source": [
    "#Para cambiar el tamaño de las ya existentes\n",
    "import os\n",
    "import cv2 as cv\n",
    "import numpy as np\n",
    "\n",
    "basePath = 'diegoS'\n",
    "folders = os.listdir(basePath)\n",
    "\n",
    "for folder in folders:\n",
    "    folderPath = basePath + '/' + folder\n",
    "    for image in os.listdir(folderPath):\n",
    "        imagePath = folderPath + '/' + image\n",
    "        img = cv.imread(imagePath, 0)\n",
    "        #img = cv.resize(img, (120,120), interpolation=cv.INTER_AREA)\n",
    "        cv.imwrite(imagePath, img)\n",
    "\n",
    "print('Se termino el redimensionamiento.')"
   ]
  },
  {
   "cell_type": "code",
   "execution_count": null,
   "id": "06087e6f-3152-47b9-a266-ffabb71ecb9e",
   "metadata": {},
   "outputs": [],
   "source": []
  }
 ],
 "metadata": {
  "kernelspec": {
   "display_name": "Python 3 (ipykernel)",
   "language": "python",
   "name": "python3"
  },
  "language_info": {
   "codemirror_mode": {
    "name": "ipython",
    "version": 3
   },
   "file_extension": ".py",
   "mimetype": "text/x-python",
   "name": "python",
   "nbconvert_exporter": "python",
   "pygments_lexer": "ipython3",
   "version": "3.11.5"
  }
 },
 "nbformat": 4,
 "nbformat_minor": 5
}
