{
 "cells": [
  {
   "cell_type": "code",
   "execution_count": null,
   "id": "844057d1-247d-4d0b-9d32-3cb2186b2460",
   "metadata": {},
   "outputs": [],
   "source": []
  },
  {
   "cell_type": "code",
   "execution_count": 3,
   "id": "b92dc60f-763a-41dc-81a6-c1e243061cea",
   "metadata": {},
   "outputs": [
    {
     "name": "stdout",
     "output_type": "stream",
     "text": [
      "Se termino el redimensionamiento.\n"
     ]
    }
   ],
   "source": [
    "#Para cambiar el tamaño de las ya existentes\n",
    "import os\n",
    "import cv2 as cv\n",
    "import numpy as np\n",
    "\n",
    "basePath = 'DiegoS'\n",
    "folders = os.listdir(basePath)\n",
    "\n",
    "for folder in folders:\n",
    "    folderPath = basePath + '/' + folder\n",
    "    for image in os.listdir(folderPath):\n",
    "        imagePath = folderPath + '/' + image\n",
    "        img = cv.imread(imagePath, 0)\n",
    "        #img = cv.resize(img, (120,120), interpolation=cv.INTER_AREA)\n",
    "        cv.imwrite(imagePath, img)\n",
    "\n",
    "print('Se termino el redimensionamiento.')"
   ]
  },
  {
   "cell_type": "code",
   "execution_count": null,
   "id": "06087e6f-3152-47b9-a266-ffabb71ecb9e",
   "metadata": {},
   "outputs": [],
   "source": []
  }
 ],
 "metadata": {
  "kernelspec": {
   "display_name": "Python 3 (ipykernel)",
   "language": "python",
   "name": "python3"
  },
  "language_info": {
   "codemirror_mode": {
    "name": "ipython",
    "version": 3
   },
   "file_extension": ".py",
   "mimetype": "text/x-python",
   "name": "python",
   "nbconvert_exporter": "python",
   "pygments_lexer": "ipython3",
   "version": "3.11.5"
  }
 },
 "nbformat": 4,
 "nbformat_minor": 5
}
