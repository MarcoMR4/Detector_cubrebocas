{
 "cells": [
  {
   "cell_type": "code",
   "execution_count": 26,
   "id": "141013e2-e99a-49fd-8cdb-2b1884774d19",
   "metadata": {},
   "outputs": [
    {
     "name": "stdout",
     "output_type": "stream",
     "text": [
      "Terminado con:  1949  rostros encontrados.\n",
      "Terminado con:  0  errores encontrados.\n"
     ]
    }
   ],
   "source": [
    "#Para las positivas\n",
    "import numpy as np\n",
    "import cv2 as cv\n",
    "\n",
    "\n",
    "video_path = 'RodriCon2.mp4'\n",
    "\n",
    "Cap = cv.VideoCapture(video_path)\n",
    "i = 960\n",
    "errores = 0\n",
    "\n",
    "while True:\n",
    "    ret, frame = Cap.read()\n",
    "    if not ret:\n",
    "        break\n",
    "    try:\n",
    "        frame = cv.resize(frame, (150, 150), interpolation=cv.INTER_AREA)\n",
    "        cv.imwrite('Dataset/v2/p/Rodri' + str(i) + '.jpg', frame)\n",
    "        i += 1\n",
    "    except cv.error as e:\n",
    "        errores += 1\n",
    "\n",
    "print('Terminado con: ', i, ' rostros encontrados.')\n",
    "print('Terminado con: ', errores, ' errores encontrados.')\n",
    "Cap.release()\n",
    "cv.destroyAllWindows()"
   ]
  },
  {
   "cell_type": "code",
   "execution_count": 29,
   "id": "eecbaf8c-4f86-4a55-9759-aa29b5e6e66f",
   "metadata": {},
   "outputs": [
    {
     "name": "stdout",
     "output_type": "stream",
     "text": [
      "Terminado con:  1945  rostros encontrados.\n",
      "Terminado con:  0  errores encontrados.\n"
     ]
    }
   ],
   "source": [
    "#Para las negativas\n",
    "import numpy as np\n",
    "import cv2 as cv\n",
    "\n",
    "\n",
    "video_path = 'RodriSin2.mp4'\n",
    "\n",
    "Cap = cv.VideoCapture(video_path)\n",
    "i = 973\n",
    "errores = 0\n",
    "\n",
    "while True:\n",
    "    ret, frame = Cap.read()\n",
    "    if not ret:\n",
    "        break\n",
    "    try:\n",
    "        frame = cv.resize(frame, (150, 150), interpolation=cv.INTER_AREA)\n",
    "        cv.imwrite('Dataset/v2/n/Rodri' + str(i) + '.jpg', frame)\n",
    "        i += 1\n",
    "    except cv.error as e:\n",
    "        errores += 1\n",
    "\n",
    "print('Terminado con: ', i, ' rostros encontrados.')\n",
    "print('Terminado con: ', errores, ' errores encontrados.')\n",
    "Cap.release()\n",
    "cv.destroyAllWindows()"
   ]
  },
  {
   "cell_type": "code",
   "execution_count": null,
   "id": "0a8a7990-39b2-4d1f-8611-723a824c0d94",
   "metadata": {},
   "outputs": [],
   "source": []
  }
 ],
 "metadata": {
  "kernelspec": {
   "display_name": "Python 3 (ipykernel)",
   "language": "python",
   "name": "python3"
  },
  "language_info": {
   "codemirror_mode": {
    "name": "ipython",
    "version": 3
   },
   "file_extension": ".py",
   "mimetype": "text/x-python",
   "name": "python",
   "nbconvert_exporter": "python",
   "pygments_lexer": "ipython3",
   "version": "3.11.5"
  }
 },
 "nbformat": 4,
 "nbformat_minor": 5
}
