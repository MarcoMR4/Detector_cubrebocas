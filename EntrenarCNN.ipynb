{
 "cells": [
  {
   "cell_type": "code",
   "execution_count": 3,
   "id": "fc0776b4-4058-48fa-b852-1d1bc9c5d3cf",
   "metadata": {},
   "outputs": [
    {
     "name": "stdout",
     "output_type": "stream",
     "text": [
      "n: 0\n",
      "p: 1\n",
      "Etiqueta 0:  2500\n",
      "Etiqueta 1:  2500\n",
      "Entrenando...\n",
      "Se termino el entrenamiento\n"
     ]
    }
   ],
   "source": [
    "import os\n",
    "import cv2 as cv\n",
    "import numpy as np\n",
    "\n",
    "basePath = 'Dataset/v3'\n",
    "folders = os.listdir(basePath)\n",
    "\n",
    "labels=[]\n",
    "faces=[]\n",
    "label=0\n",
    "\n",
    "for folder in folders:\n",
    "    folderPath = basePath + '/' + folder\n",
    "    print(folder+': '+ str(label))\n",
    "    for image in os.listdir(folderPath):\n",
    "        imagePath = folderPath + '/' + image\n",
    "        img = cv.imread(imagePath, 0)\n",
    "        faces.append(img)\n",
    "        labels.append(label)\n",
    "\n",
    "    label += 1\n",
    "print('Etiqueta 0: ', np.count_nonzero(np.array(labels)==0))\n",
    "print('Etiqueta 1: ', np.count_nonzero(np.array(labels)==1))\n",
    "\n",
    "face_mask = cv.face.LBPHFaceRecognizer_create()\n",
    "\n",
    "print('Entrenando...')\n",
    "face_mask.train(faces, np.array(labels))\n",
    "\n",
    "face_mask.write('cubrebocas.xml')\n",
    "print('Se termino el entrenamiento')"
   ]
  },
  {
   "cell_type": "code",
   "execution_count": 4,
   "id": "e782351d-14df-49d4-95ce-418ac9bd23ef",
   "metadata": {},
   "outputs": [
    {
     "name": "stderr",
     "output_type": "stream",
     "text": [
      "\n",
      "KeyboardInterrupt\n",
      "\n"
     ]
    }
   ],
   "source": [
    "import os\n",
    "import cv2 as cv\n",
    "import numpy as np\n",
    "\n",
    "basePath = 'Dataset/v2'\n",
    "folders = os.listdir(basePath)\n",
    "\n",
    "for folder in folders:\n",
    "    folderPath = basePath + '/' + folder\n",
    "    for image in os.listdir(folderPath):\n",
    "        imagePath = folderPath + '/' + image\n",
    "        img = cv.imread(imagePath, 0)\n",
    "        cv.imshow('prueba', img)\n",
    "        k = cv.waitKey(1)\n",
    "    if k == 27:\n",
    "        break\n",
    "print('Terminado')"
   ]
  },
  {
   "cell_type": "code",
   "execution_count": null,
   "id": "4048a0eb-393d-4731-a537-24640bc38ee2",
   "metadata": {},
   "outputs": [
    {
     "name": "stdout",
     "output_type": "stream",
     "text": [
      "Negativos: 0\n",
      "Positivos: 1\n",
      "Etiqueta 0:  4387\n",
      "Etiqueta 1:  3468\n"
     ]
    }
   ],
   "source": [
    "import os\n",
    "import cv2 as cv\n",
    "import numpy as np\n",
    "\n",
    "basePath = 'Dataset/'\n",
    "folders = os.listdir(basePath)\n",
    "\n",
    "labels = []\n",
    "faces = []\n",
    "label = 0\n",
    "\n",
    "for folder in folders:\n",
    "    folderPath = basePath + '/' + folder\n",
    "    print(folder + ': ' + str(label))\n",
    "    for image in os.listdir(folderPath):\n",
    "        imagePath = folderPath + '/' + image\n",
    "        img = cv.imread(imagePath, 0)\n",
    "        faces.append(img)\n",
    "        labels.append(label)\n",
    "\n",
    "    label += 1\n",
    "\n",
    "print('Etiqueta 0: ', np.count_nonzero(np.array(labels) == 0))\n",
    "print('Etiqueta 1: ', np.count_nonzero(np.array(labels) == 1))\n",
    "\n",
    "face_eigen = cv.face.EigenFaceRecognizer_create()\n",
    "print('Entrenando...')\n",
    "face_eigen.train(faces, np.array(labels))\n",
    "\n",
    "face_eigen.write('cubrebocas_eigen.xml')\n",
    "print('Se terminó el entrenamiento')\n"
   ]
  },
  {
   "cell_type": "code",
   "execution_count": null,
   "id": "92020799-0f7f-4d51-a6c9-2fce3e42eddb",
   "metadata": {},
   "outputs": [],
   "source": []
  }
 ],
 "metadata": {
  "kernelspec": {
   "display_name": "Python 3 (ipykernel)",
   "language": "python",
   "name": "python3"
  },
  "language_info": {
   "codemirror_mode": {
    "name": "ipython",
    "version": 3
   },
   "file_extension": ".py",
   "mimetype": "text/x-python",
   "name": "python",
   "nbconvert_exporter": "python",
   "pygments_lexer": "ipython3",
   "version": "3.10.5"
  }
 },
 "nbformat": 4,
 "nbformat_minor": 5
}
